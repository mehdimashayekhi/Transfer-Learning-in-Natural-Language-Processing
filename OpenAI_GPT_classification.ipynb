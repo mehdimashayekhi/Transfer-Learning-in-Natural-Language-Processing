{
  "nbformat": 4,
  "nbformat_minor": 0,
  "metadata": {
    "colab": {
      "name": "OpenAI GPT_classification.ipynb",
      "version": "0.3.2",
      "provenance": [],
      "collapsed_sections": [],
      "toc_visible": true
    },
    "kernelspec": {
      "name": "python3",
      "display_name": "Python 3"
    },
    "accelerator": "GPU"
  },
  "cells": [
    {
      "cell_type": "markdown",
      "metadata": {
        "id": "XP-_HCYjI-c0",
        "colab_type": "text"
      },
      "source": [
        "# Tutorial on  Fine-Tuning OpenAI GPT for Classification Tasks"
      ]
    },
    {
      "cell_type": "markdown",
      "metadata": {
        "id": "_ZfVpWE4JEZv",
        "colab_type": "text"
      },
      "source": [
        "# Running the notebook\n",
        "\n",
        "This notebook is shared in `view only mode`. If you want to run the cells inside it, you should either:\n",
        "\n",
        "- click on ` open in playground mode` in the `file` menu (your change won't be saved though)\n",
        "- save a copy in your drive that you can open in `edit` mode to be able to save your changes."
      ]
    },
    {
      "cell_type": "markdown",
      "metadata": {
        "id": "4j5vfwrAJTk6",
        "colab_type": "text"
      },
      "source": [
        "## Introduction\n",
        "\n",
        "## OpenAI GPT\n",
        "\n",
        "[OpenAI GPT model](https://s3-us-west-2.amazonaws.com/openai-assets/research-covers/language-unsupervised/language_understanding_paper.pdf), is the model we will use in this tutorial to provide readers with a better understanding of and practical guidance for using transfer learning models in NLP. GPT is a method of pretraining language representations that was used to create models that NLP practicioners can then download and use. You can either use these models to extract high quality language features from your text data, or you can fine-tune these models on a specific task (classification, entity recognition, question answering, etc.) with your own data to produce state of the art predictions.\n",
        "\n",
        "### This Tutorial\n",
        "\n",
        "This post will explain how you can modify and fine-tune GPT to create a powerful NLP model that quickly gives you state of the art results. \n",
        "\n",
        "### Fine-Tuning OpenAI GPT\n",
        "\n",
        "In this tutorial, we will use GPT to train a text classifier. Specifically, we will take the pre-trained GPT model, and add a classification layer on top of it. Fine-tuning is helpful for the following reasons: \n",
        "\n",
        "- Easy Training: The pre-trained GPT model, already encode a lot of information about our language. As a result, it takes much less time to train our fine-tuned model - it is as if we have already trained the bottom layers of our network extensively and only need to gently tune them while using their output as features for our classification task. \n",
        "\n",
        "- Less Data: Fine-tuning tallows us to use a much smaller dataset in comparison with a model that is built from scratch. A major drawback of NLP models built from scratch is that we often need a  large dataset in order to train our network to reasonable accuracy. By fine-tuning GPT, we are now able to get away with training a model to good performance on a much smaller amount of training data.\n",
        "\n",
        "- Good Performance: Fine-tuning procedure has shown to achieve state of the art results with minimal task-specific adjustments for a wide variety of NLP  tasks.\n",
        "\n",
        "- A Shift in NLP: This shift to transfer learning resembels the same shift that pretrained ImageNet models had on computer vision.\n",
        "\n",
        "Also, note that, in another [tutorial](http://tiny.cc/Bert_Classification), I have  explained how to fine tune [BERT](https://arxiv.org/abs/1810.04805) for classification tasks. \n",
        "\n",
        "Okay, let's get started!"
      ]
    },
    {
      "cell_type": "markdown",
      "metadata": {
        "id": "LrAC1P38LMsv",
        "colab_type": "text"
      },
      "source": [
        "## Install and Import"
      ]
    },
    {
      "cell_type": "markdown",
      "metadata": {
        "id": "uHjUhZoQLNxn",
        "colab_type": "text"
      },
      "source": [
        "With Google Colab you can have access to free GPUs and TPUs! In casae we have a  large neural network it's best to take advantage of this (in this case we'll attach a GPU). For this tutorial you can also use CPU, but it takes a long time!!\n",
        "\n",
        "A GPU can be added by going to the menu and selecting:\n",
        "\n",
        "Edit -> Notebook Settings -> Add accelerator (GPU)\n",
        "\n",
        "Then run the following cell to confirm that the GPU is detected."
      ]
    },
    {
      "cell_type": "code",
      "metadata": {
        "id": "Se6jcziOocC8",
        "colab_type": "code",
        "colab": {}
      },
      "source": [
        "in case of runing out of memory\n",
        "# !pkill -9 -f ipykernel_launcher\n"
      ],
      "execution_count": 0,
      "outputs": []
    },
    {
      "cell_type": "code",
      "metadata": {
        "id": "KvWqqd9jJVQw",
        "colab_type": "code",
        "outputId": "274b842a-5185-4e64-a969-a04a3d84dd2a",
        "colab": {
          "base_uri": "https://localhost:8080/",
          "height": 74
        }
      },
      "source": [
        "import tensorflow as tf\n",
        "\n",
        "device_name = tf.test.gpu_device_name()\n",
        "if device_name != '/device:GPU:0':\n",
        "  raise SystemError('GPU device not found')\n",
        "print('Found GPU at: {}'.format(device_name))"
      ],
      "execution_count": 1,
      "outputs": [
        {
          "output_type": "stream",
          "text": [
            "Found GPU at: /device:GPU:0\n"
          ],
          "name": "stdout"
        }
      ]
    },
    {
      "cell_type": "markdown",
      "metadata": {
        "id": "RoHTUVgVLVZp",
        "colab_type": "text"
      },
      "source": [
        "Next, let's install the pytorch interface for GPT by [Hugging Face](https://github.com/huggingface/pytorch-transformers)"
      ]
    },
    {
      "cell_type": "code",
      "metadata": {
        "id": "9UcRKK03Jqll",
        "colab_type": "code",
        "colab": {}
      },
      "source": [
        "!pip install pytorch-transformers"
      ],
      "execution_count": 0,
      "outputs": []
    },
    {
      "cell_type": "code",
      "metadata": {
        "id": "Z35OEJf2ycE9",
        "colab_type": "code",
        "colab": {}
      },
      "source": [
        "!pip install pytorch-ignite ipdb"
      ],
      "execution_count": 0,
      "outputs": []
    },
    {
      "cell_type": "code",
      "metadata": {
        "id": "5Wp_3YXfJyhf",
        "colab_type": "code",
        "outputId": "1625cde6-8a09-4e3d-d3a4-b72c5c774466",
        "colab": {
          "base_uri": "https://localhost:8080/",
          "height": 74
        }
      },
      "source": [
        "import torch\n",
        "import torch.nn as nn\n",
        "from torch.nn import CrossEntropyLoss\n",
        "from torch.utils.data import TensorDataset, DataLoader, RandomSampler, SequentialSampler\n",
        "from keras.preprocessing.sequence import pad_sequences\n",
        "from sklearn.model_selection import train_test_split\n",
        "from tqdm import tqdm, trange\n",
        "import pandas as pd\n",
        "import io\n",
        "import numpy as np\n",
        "import matplotlib.pyplot as plt\n",
        "% matplotlib inline"
      ],
      "execution_count": 4,
      "outputs": [
        {
          "output_type": "stream",
          "text": [
            "Using TensorFlow backend.\n"
          ],
          "name": "stderr"
        }
      ]
    },
    {
      "cell_type": "markdown",
      "metadata": {
        "id": "CZLSd2WEj5DN",
        "colab_type": "text"
      },
      "source": [
        "**Importing some classes from pytorch_transformers**"
      ]
    },
    {
      "cell_type": "code",
      "metadata": {
        "id": "GluSOy6wdJU0",
        "colab_type": "code",
        "colab": {}
      },
      "source": [
        "from pytorch_transformers import cached_path\n",
        "from pytorch_transformers import AdamW, WarmupLinearSchedule\n",
        "\n",
        "# GPT2 Related\n",
        "from  pytorch_transformers import OpenAIGPTTokenizer\n",
        "from  pytorch_transformers import OpenAIGPTModel"
      ],
      "execution_count": 0,
      "outputs": []
    },
    {
      "cell_type": "code",
      "metadata": {
        "id": "hiLElIWNhzpw",
        "colab_type": "code",
        "outputId": "92368efb-8316-4b8f-927e-e080df4f5e10",
        "colab": {
          "base_uri": "https://localhost:8080/",
          "height": 74
        }
      },
      "source": [
        "device = torch.device(\"cuda\" if torch.cuda.is_available() else \"cpu\")\n",
        "n_gpu = torch.cuda.device_count()\n",
        "torch.cuda.get_device_name(0)"
      ],
      "execution_count": 6,
      "outputs": [
        {
          "output_type": "execute_result",
          "data": {
            "text/plain": [
              "'Tesla K80'"
            ]
          },
          "metadata": {
            "tags": []
          },
          "execution_count": 6
        }
      ]
    },
    {
      "cell_type": "markdown",
      "metadata": {
        "id": "k_RTLbnwr88V",
        "colab_type": "text"
      },
      "source": [
        "## Tokenizer\n",
        "\n",
        "To simplify pre-processing, we'll use a pre-defined open vocabulary tokenizer: the tokenizer of the GPT model."
      ]
    },
    {
      "cell_type": "code",
      "metadata": {
        "id": "E1ZOJLF_sUWg",
        "colab_type": "code",
        "colab": {
          "base_uri": "https://localhost:8080/",
          "height": 92
        },
        "outputId": "35eb31cf-c7e7-479d-8c9d-a9f0193ae0a9"
      },
      "source": [
        "gpttokenizer = OpenAIGPTTokenizer.from_pretrained('openai-gpt')"
      ],
      "execution_count": 7,
      "outputs": [
        {
          "output_type": "stream",
          "text": [
            "WARNING: Logging before flag parsing goes to stderr.\n",
            "W0820 22:36:33.924742 140210205075328 tokenization_openai.py:96] ftfy or spacy is not installed using BERT BasicTokenizer instead of SpaCy & ftfy.\n"
          ],
          "name": "stderr"
        }
      ]
    },
    {
      "cell_type": "code",
      "metadata": {
        "id": "pmdF8GfvATyQ",
        "colab_type": "code",
        "colab": {
          "base_uri": "https://localhost:8080/",
          "height": 74
        },
        "outputId": "b18b514e-4259-4c7d-93bf-152833377873"
      },
      "source": [
        "gpttokenizer.vocab_size"
      ],
      "execution_count": 8,
      "outputs": [
        {
          "output_type": "execute_result",
          "data": {
            "text/plain": [
              "40478"
            ]
          },
          "metadata": {
            "tags": []
          },
          "execution_count": 8
        }
      ]
    },
    {
      "cell_type": "markdown",
      "metadata": {
        "id": "89Dzj-_QLx22",
        "colab_type": "text"
      },
      "source": [
        "Need to add classification token to the tokenizer"
      ]
    },
    {
      "cell_type": "code",
      "metadata": {
        "id": "egNz_VpA_8dU",
        "colab_type": "code",
        "colab": {}
      },
      "source": [
        "gpttokenizer.add_special_tokens({'cls_token': '[CLS]'})"
      ],
      "execution_count": 0,
      "outputs": []
    },
    {
      "cell_type": "code",
      "metadata": {
        "id": "52i6Q-aDAGpM",
        "colab_type": "code",
        "colab": {
          "base_uri": "https://localhost:8080/",
          "height": 74
        },
        "outputId": "825a34cf-21a3-4046-c4fc-a1967a468f04"
      },
      "source": [
        "gpttokenizer.convert_tokens_to_ids(gpttokenizer.cls_token)"
      ],
      "execution_count": 10,
      "outputs": [
        {
          "output_type": "execute_result",
          "data": {
            "text/plain": [
              "40478"
            ]
          },
          "metadata": {
            "tags": []
          },
          "execution_count": 10
        }
      ]
    },
    {
      "cell_type": "markdown",
      "metadata": {
        "id": "srgg8q72h33f",
        "colab_type": "text"
      },
      "source": [
        "## Load and prepare CoLA dataset"
      ]
    },
    {
      "cell_type": "markdown",
      "metadata": {
        "id": "FQ3_qePiiCkC",
        "colab_type": "text"
      },
      "source": [
        "[CoLA](https://nyu-mll.github.io/CoLA/) dataset is a set of sentences labeled as grammatically correct or incorrect. The data is as follows:\n",
        "\n",
        "**Column 1**:\tthe code representing the source of the sentence.\n",
        "\n",
        "**Column 2**:\tthe acceptability judgment label (0=unacceptable, 1=acceptable).\n",
        "\n",
        "**Column 3**:\tthe acceptability judgment as originally notated by the author.\n",
        "\n",
        "**Column 4**:\tthe sentence."
      ]
    },
    {
      "cell_type": "markdown",
      "metadata": {
        "id": "GvAMsZdNiplX",
        "colab_type": "text"
      },
      "source": [
        "Download the dataset from this link, extract, and move them to your local drive. Both tokenized and raw versions of the data are available. We will use the  GPT tokenizer to tokenize it."
      ]
    },
    {
      "cell_type": "code",
      "metadata": {
        "id": "tIGg3T1yitT9",
        "colab_type": "code",
        "outputId": "5d5bbafa-0c97-43d2-c64f-c7b30deeabe4",
        "colab": {
          "resources": {
            "http://localhost:8080/nbextensions/google.colab/files.js": {
              "data": "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",
              "ok": true,
              "headers": [
                [
                  "content-type",
                  "application/javascript"
                ]
              ],
              "status": 200,
              "status_text": ""
            }
          },
          "base_uri": "https://localhost:8080/",
          "height": 100
        }
      },
      "source": [
        "# Upload the train file from your local drive; if you get out of memory error, upload by the tab file 'upload'\n",
        "from google.colab import files\n",
        "uploaded = files.upload()"
      ],
      "execution_count": 0,
      "outputs": [
        {
          "output_type": "display_data",
          "data": {
            "text/html": [
              "\n",
              "     <input type=\"file\" id=\"files-3a18b6f7-092a-4419-86a9-2379cc81d70b\" name=\"files[]\" multiple disabled />\n",
              "     <output id=\"result-3a18b6f7-092a-4419-86a9-2379cc81d70b\">\n",
              "      Upload widget is only available when the cell has been executed in the\n",
              "      current browser session. Please rerun this cell to enable.\n",
              "      </output>\n",
              "      <script src=\"/nbextensions/google.colab/files.js\"></script> "
            ],
            "text/plain": [
              "<IPython.core.display.HTML object>"
            ]
          },
          "metadata": {
            "tags": []
          }
        }
      ]
    },
    {
      "cell_type": "code",
      "metadata": {
        "id": "7rkYF921jPGY",
        "colab_type": "code",
        "colab": {}
      },
      "source": [
        "df = pd.read_csv(\"in_domain_train.tsv\", delimiter='\\t', header=None, names=['sentence_source', 'label', 'label_notes', 'sentence'])"
      ],
      "execution_count": 0,
      "outputs": []
    },
    {
      "cell_type": "code",
      "metadata": {
        "id": "TtWTH47ajmnL",
        "colab_type": "code",
        "outputId": "fe6574e7-0526-4b8e-f034-2c1f6b9a1ceb",
        "colab": {
          "base_uri": "https://localhost:8080/",
          "height": 74
        }
      },
      "source": [
        "df.shape"
      ],
      "execution_count": 16,
      "outputs": [
        {
          "output_type": "execute_result",
          "data": {
            "text/plain": [
              "(8551, 4)"
            ]
          },
          "metadata": {
            "tags": []
          },
          "execution_count": 16
        }
      ]
    },
    {
      "cell_type": "code",
      "metadata": {
        "id": "8TxR-NzijqWH",
        "colab_type": "code",
        "outputId": "da038ee7-f056-4aa3-d21d-e4dcc57a6f00",
        "colab": {
          "base_uri": "https://localhost:8080/",
          "height": 241
        }
      },
      "source": [
        "df.sample(5)"
      ],
      "execution_count": 17,
      "outputs": [
        {
          "output_type": "execute_result",
          "data": {
            "text/html": [
              "<div>\n",
              "<style scoped>\n",
              "    .dataframe tbody tr th:only-of-type {\n",
              "        vertical-align: middle;\n",
              "    }\n",
              "\n",
              "    .dataframe tbody tr th {\n",
              "        vertical-align: top;\n",
              "    }\n",
              "\n",
              "    .dataframe thead th {\n",
              "        text-align: right;\n",
              "    }\n",
              "</style>\n",
              "<table border=\"1\" class=\"dataframe\">\n",
              "  <thead>\n",
              "    <tr style=\"text-align: right;\">\n",
              "      <th></th>\n",
              "      <th>sentence_source</th>\n",
              "      <th>label</th>\n",
              "      <th>label_notes</th>\n",
              "      <th>sentence</th>\n",
              "    </tr>\n",
              "  </thead>\n",
              "  <tbody>\n",
              "    <tr>\n",
              "      <th>2460</th>\n",
              "      <td>l-93</td>\n",
              "      <td>1</td>\n",
              "      <td>NaN</td>\n",
              "      <td>On the windowsill is a flowering plant.</td>\n",
              "    </tr>\n",
              "    <tr>\n",
              "      <th>3810</th>\n",
              "      <td>ks08</td>\n",
              "      <td>1</td>\n",
              "      <td>NaN</td>\n",
              "      <td>To delay the march and to go ahead with it hav...</td>\n",
              "    </tr>\n",
              "    <tr>\n",
              "      <th>5330</th>\n",
              "      <td>b_82</td>\n",
              "      <td>0</td>\n",
              "      <td>*</td>\n",
              "      <td>Those people will, after the party, not come h...</td>\n",
              "    </tr>\n",
              "    <tr>\n",
              "      <th>4937</th>\n",
              "      <td>ks08</td>\n",
              "      <td>1</td>\n",
              "      <td>NaN</td>\n",
              "      <td>John has two sisters, who became lawyers.</td>\n",
              "    </tr>\n",
              "    <tr>\n",
              "      <th>3450</th>\n",
              "      <td>ks08</td>\n",
              "      <td>0</td>\n",
              "      <td>*</td>\n",
              "      <td>The evidence that John found was more helpful ...</td>\n",
              "    </tr>\n",
              "  </tbody>\n",
              "</table>\n",
              "</div>"
            ],
            "text/plain": [
              "     sentence_source  ...                                           sentence\n",
              "2460            l-93  ...            On the windowsill is a flowering plant.\n",
              "3810            ks08  ...  To delay the march and to go ahead with it hav...\n",
              "5330            b_82  ...  Those people will, after the party, not come h...\n",
              "4937            ks08  ...          John has two sisters, who became lawyers.\n",
              "3450            ks08  ...  The evidence that John found was more helpful ...\n",
              "\n",
              "[5 rows x 4 columns]"
            ]
          },
          "metadata": {
            "tags": []
          },
          "execution_count": 17
        }
      ]
    },
    {
      "cell_type": "markdown",
      "metadata": {
        "id": "dnjQy0Tejw2Z",
        "colab_type": "text"
      },
      "source": [
        "### Create sentence and label lists"
      ]
    },
    {
      "cell_type": "code",
      "metadata": {
        "id": "DCOkft5kKZos",
        "colab_type": "code",
        "colab": {}
      },
      "source": [
        "sentences = df.sentence.values\n",
        "labels = df.label.values"
      ],
      "execution_count": 0,
      "outputs": []
    },
    {
      "cell_type": "code",
      "metadata": {
        "id": "e9bFOCuuZ_ff",
        "colab_type": "code",
        "colab": {}
      },
      "source": [
        "s0 = sentences[0]"
      ],
      "execution_count": 0,
      "outputs": []
    },
    {
      "cell_type": "code",
      "metadata": {
        "id": "d47vEqrB_yS-",
        "colab_type": "code",
        "colab": {
          "base_uri": "https://localhost:8080/",
          "height": 74
        },
        "outputId": "b45236e4-f5c3-418c-f2da-9db24b62d049"
      },
      "source": [
        "print(s0)"
      ],
      "execution_count": 20,
      "outputs": [
        {
          "output_type": "stream",
          "text": [
            "Our friends won't buy this analysis, let alone the next one we propose.\n"
          ],
          "name": "stdout"
        }
      ]
    },
    {
      "cell_type": "code",
      "metadata": {
        "id": "BBaLk_PP_irh",
        "colab_type": "code",
        "colab": {
          "base_uri": "https://localhost:8080/",
          "height": 340
        },
        "outputId": "08a39869-f359-4b03-f8ed-ecf2fb521799"
      },
      "source": [
        "[gpttokenizer.tokenize(s0)]"
      ],
      "execution_count": 21,
      "outputs": [
        {
          "output_type": "execute_result",
          "data": {
            "text/plain": [
              "[['our</w>',\n",
              "  'friends</w>',\n",
              "  'won</w>',\n",
              "  \"'</w>\",\n",
              "  't</w>',\n",
              "  'buy</w>',\n",
              "  'this</w>',\n",
              "  'analysis</w>',\n",
              "  ',</w>',\n",
              "  'let</w>',\n",
              "  'alone</w>',\n",
              "  'the</w>',\n",
              "  'next</w>',\n",
              "  'one</w>',\n",
              "  'we</w>',\n",
              "  'propose</w>',\n",
              "  '.</w>']]"
            ]
          },
          "metadata": {
            "tags": []
          },
          "execution_count": 21
        }
      ]
    },
    {
      "cell_type": "code",
      "metadata": {
        "id": "nmho7VlKadrE",
        "colab_type": "code",
        "outputId": "2459437a-0124-4d3e-e335-9600981bdeb5",
        "colab": {
          "base_uri": "https://localhost:8080/",
          "height": 92
        }
      },
      "source": [
        "tokenized_texts = [gpttokenizer.tokenize(sent) for sent in sentences]\n",
        "print (\"Tokenize the first sentence:\")\n",
        "print (tokenized_texts[0])"
      ],
      "execution_count": 22,
      "outputs": [
        {
          "output_type": "stream",
          "text": [
            "Tokenize the first sentence:\n",
            "['our</w>', 'friends</w>', 'won</w>', \"'</w>\", 't</w>', 'buy</w>', 'this</w>', 'analysis</w>', ',</w>', 'let</w>', 'alone</w>', 'the</w>', 'next</w>', 'one</w>', 'we</w>', 'propose</w>', '.</w>']\n"
          ],
          "name": "stdout"
        }
      ]
    },
    {
      "cell_type": "code",
      "metadata": {
        "id": "QKlhDcWJ4ot8",
        "colab_type": "code",
        "colab": {}
      },
      "source": [
        "# Set the maximum sequence length. The longest sequence in our training set is 47, but we'll leave room on the end anyway. \n",
        "MAX_LEN = 128"
      ],
      "execution_count": 0,
      "outputs": []
    },
    {
      "cell_type": "code",
      "metadata": {
        "id": "YVysNSUM4veJ",
        "colab_type": "code",
        "colab": {}
      },
      "source": [
        "# Use the GPT tokenizer to convert the tokens to their index numbers in the GPT vocabulary\n",
        "input_ids = [gpttokenizer.convert_tokens_to_ids(x) for x in tokenized_texts]"
      ],
      "execution_count": 0,
      "outputs": []
    },
    {
      "cell_type": "code",
      "metadata": {
        "id": "kigxK2_e_Zmj",
        "colab_type": "code",
        "outputId": "832464c8-4d81-4446-ef74-f9e4c060e257",
        "colab": {
          "base_uri": "https://localhost:8080/",
          "height": 74
        }
      },
      "source": [
        "print(input_ids[:2])"
      ],
      "execution_count": 25,
      "outputs": [
        {
          "output_type": "stream",
          "text": [
            "[[622, 1662, 5011, 256, 241, 3487, 616, 13542, 240, 851, 1552, 481, 1115, 566, 606, 14568, 239], [566, 725, 27889, 2192, 24396, 488, 249, 256, 258, 2081, 609, 239]]\n"
          ],
          "name": "stdout"
        }
      ]
    },
    {
      "cell_type": "code",
      "metadata": {
        "id": "Eruy7XZr47dT",
        "colab_type": "code",
        "colab": {}
      },
      "source": [
        "# Padding\n",
        "input_ids = pad_sequences(input_ids, maxlen=MAX_LEN-1, dtype=\"long\", truncating=\"post\", padding=\"post\")"
      ],
      "execution_count": 0,
      "outputs": []
    },
    {
      "cell_type": "code",
      "metadata": {
        "id": "pPvLuNDQO9Tq",
        "colab_type": "code",
        "colab": {}
      },
      "source": [
        "#appending CLS token to the end of input id\n",
        "input_ids = [np.append(x, gpttokenizer.convert_tokens_to_ids('[CLS]'))  for x in input_ids]"
      ],
      "execution_count": 0,
      "outputs": []
    },
    {
      "cell_type": "code",
      "metadata": {
        "id": "WO6pptMA4-jz",
        "colab_type": "code",
        "outputId": "0ba4a7db-a4a3-4db8-ebcc-a4b789e81de8",
        "colab": {
          "base_uri": "https://localhost:8080/",
          "height": 240
        }
      },
      "source": [
        "print(input_ids[0])"
      ],
      "execution_count": 28,
      "outputs": [
        {
          "output_type": "stream",
          "text": [
            "[  622  1662  5011   256   241  3487   616 13542   240   851  1552   481\n",
            "  1115   566   606 14568   239     0     0     0     0     0     0     0\n",
            "     0     0     0     0     0     0     0     0     0     0     0     0\n",
            "     0     0     0     0     0     0     0     0     0     0     0     0\n",
            "     0     0     0     0     0     0     0     0     0     0     0     0\n",
            "     0     0     0     0     0     0     0     0     0     0     0     0\n",
            "     0     0     0     0     0     0     0     0     0     0     0     0\n",
            "     0     0     0     0     0     0     0     0     0     0     0     0\n",
            "     0     0     0     0     0     0     0     0     0     0     0     0\n",
            "     0     0     0     0     0     0     0     0     0     0     0     0\n",
            "     0     0     0     0     0     0     0 40478]\n"
          ],
          "name": "stdout"
        }
      ]
    },
    {
      "cell_type": "markdown",
      "metadata": {
        "id": "UgngKHzr57fQ",
        "colab_type": "text"
      },
      "source": [
        "Use train_test_split to split our data into train and validation sets for training"
      ]
    },
    {
      "cell_type": "code",
      "metadata": {
        "id": "vHnBy9Lh58Ke",
        "colab_type": "code",
        "colab": {}
      },
      "source": [
        "train_inputs, validation_inputs, train_labels, validation_labels = train_test_split(input_ids, labels, \n",
        "                                                            random_state=2018, test_size=0.05)\n"
      ],
      "execution_count": 0,
      "outputs": []
    },
    {
      "cell_type": "code",
      "metadata": {
        "id": "r0fXQ_wU6nIr",
        "colab_type": "code",
        "colab": {}
      },
      "source": [
        "# Convert all of our data into torch tensors, the required type for our pytorch model\n",
        "\n",
        "train_inputs = torch.tensor(train_inputs)\n",
        "validation_inputs = torch.tensor(validation_inputs)\n",
        "train_labels = torch.tensor(train_labels)\n",
        "validation_labels = torch.tensor(validation_labels)\n"
      ],
      "execution_count": 0,
      "outputs": []
    },
    {
      "cell_type": "code",
      "metadata": {
        "id": "FIelp3l47C7k",
        "colab_type": "code",
        "outputId": "4bf11aa7-069d-4555-b3e9-c9ebfbf37a31",
        "colab": {
          "base_uri": "https://localhost:8080/",
          "height": 74
        }
      },
      "source": [
        "print(train_inputs.shape)"
      ],
      "execution_count": 31,
      "outputs": [
        {
          "output_type": "stream",
          "text": [
            "torch.Size([8123, 128])\n"
          ],
          "name": "stdout"
        }
      ]
    },
    {
      "cell_type": "code",
      "metadata": {
        "id": "dKoO7Ij9ZRuw",
        "colab_type": "code",
        "colab": {
          "base_uri": "https://localhost:8080/",
          "height": 273
        },
        "outputId": "6a24e9d1-04e4-46e7-e628-be44657e43aa"
      },
      "source": [
        "print(train_inputs[0])"
      ],
      "execution_count": 32,
      "outputs": [
        {
          "output_type": "stream",
          "text": [
            "tensor([ 2476,  2528,  4528,  2846,   239,     0,     0,     0,     0,     0,\n",
            "            0,     0,     0,     0,     0,     0,     0,     0,     0,     0,\n",
            "            0,     0,     0,     0,     0,     0,     0,     0,     0,     0,\n",
            "            0,     0,     0,     0,     0,     0,     0,     0,     0,     0,\n",
            "            0,     0,     0,     0,     0,     0,     0,     0,     0,     0,\n",
            "            0,     0,     0,     0,     0,     0,     0,     0,     0,     0,\n",
            "            0,     0,     0,     0,     0,     0,     0,     0,     0,     0,\n",
            "            0,     0,     0,     0,     0,     0,     0,     0,     0,     0,\n",
            "            0,     0,     0,     0,     0,     0,     0,     0,     0,     0,\n",
            "            0,     0,     0,     0,     0,     0,     0,     0,     0,     0,\n",
            "            0,     0,     0,     0,     0,     0,     0,     0,     0,     0,\n",
            "            0,     0,     0,     0,     0,     0,     0,     0,     0,     0,\n",
            "            0,     0,     0,     0,     0,     0,     0, 40478])\n"
          ],
          "name": "stdout"
        }
      ]
    },
    {
      "cell_type": "markdown",
      "metadata": {
        "id": "BVwWHmVWdLu3",
        "colab_type": "text"
      },
      "source": [
        "Select a batch size for training. \n",
        "\n",
        "For fine-tuning GPT on a specific task, the authors recommend a batch size of 16 or 32. Create an iterator of our data with torch DataLoader. "
      ]
    },
    {
      "cell_type": "code",
      "metadata": {
        "id": "tUqiZFoJdN4P",
        "colab_type": "code",
        "colab": {}
      },
      "source": [
        "batch_size = 16\n",
        "\n",
        "# Training\n",
        "train_data = TensorDataset(train_inputs, train_labels)\n",
        "train_sampler = RandomSampler(train_data)\n",
        "train_dataloader = DataLoader(train_data, sampler=train_sampler, batch_size=batch_size)\n",
        "\n",
        "# Validation\n",
        "validation_data = TensorDataset(validation_inputs, validation_labels)\n",
        "validation_sampler = SequentialSampler(validation_data)\n",
        "validation_dataloader = DataLoader(validation_data, sampler=validation_sampler, batch_size=batch_size)"
      ],
      "execution_count": 0,
      "outputs": []
    },
    {
      "cell_type": "markdown",
      "metadata": {
        "id": "uKAFsTUx7O4W",
        "colab_type": "text"
      },
      "source": [
        "## Creating Classification Model\n",
        "\n",
        "Now what we need to do is to add a single classification layer on top of GPT model. As we feed input data, the entire pre-trained GPT's model and the additional untrained classification layer is trained on our specific task. Alternatively, we can freez all layers and just fine tune the classification head.\n",
        "\n",
        "Also note that, as we've showed beforehand, the last token of every sequence is the special classification token (\"[CLS]\"). Unlike the hidden state vector corresponding to a normal word token, the hidden state corresponding to this special token is designated as an aggregate representation of the whole sentence used for classification tasks. As such, when we feed in an input sentence to our model during training, the output is the length 768 hidden state vector corresponding to this token. The additional layer that we've added on top consists of untrained linear neurons of size \"[hidden_state, number_of_labels]\"\", so \"[768,2]\". "
      ]
    },
    {
      "cell_type": "markdown",
      "metadata": {
        "id": "Wi3zF6viNp7J",
        "colab_type": "text"
      },
      "source": [
        "### Adding a classification head"
      ]
    },
    {
      "cell_type": "code",
      "metadata": {
        "id": "hvSD8cBnZg-A",
        "colab_type": "code",
        "colab": {}
      },
      "source": [
        "class GPTWithClfHead(nn.Module):\n",
        "    def __init__(self, config, adapt_args, gptmodel):\n",
        "        super().__init__()\n",
        "        self.transformer = gptmodel\n",
        "        self.num_labels = adapt_args.num_classes\n",
        "        self.classifier = nn.Linear(config['n_embd'], adapt_args.num_classes)\n",
        "\n",
        "    \n",
        "    def forward(self, input_ids, mc_token_ids=None, labels=None, token_type_ids=None,\n",
        "                position_ids=None, past=None, head_mask=None):\n",
        "        transformer_outputs = self.transformer(input_ids, position_ids=position_ids, token_type_ids=token_type_ids\n",
        "                                               , head_mask=head_mask)\n",
        "        hidden_states = transformer_outputs[0]\n",
        "        \n",
        "\n",
        "        # last token of the sequence is classification token\n",
        "        token_ids = torch.full_like(hidden_states[..., :1, :], hidden_states.shape[-2]-1, dtype=torch.long)\n",
        "        output = hidden_states.gather(-2, token_ids).squeeze(-2) # shape (bsz, n_embd)\n",
        "\n",
        "        clf_logits = self.classifier(output)\n",
        "        outputs = (clf_logits,) + transformer_outputs[1:]\n",
        "        if labels is not None:\n",
        "          loss_fct = CrossEntropyLoss()\n",
        "          loss = loss_fct(clf_logits.view(-1, self.num_labels), labels.view(-1))\n",
        "          outputs = (loss,) + outputs\n",
        "\n",
        "        return outputs  # (loss), logits, (hidden_states), (attentions)\n"
      ],
      "execution_count": 0,
      "outputs": []
    },
    {
      "cell_type": "markdown",
      "metadata": {
        "id": "7N5S-p_XP3Zb",
        "colab_type": "text"
      },
      "source": [
        "## Fine-tuning configuration\n",
        "\n",
        "We need an additional configuration for the fine-tuning which will define the number of classes of our classification head (2 classes for the CoLA dataset) and a few optimization settings for adapatation (learning rate, batch size...)"
      ]
    },
    {
      "cell_type": "code",
      "metadata": {
        "id": "VTzygJ78P_xc",
        "colab_type": "code",
        "colab": {}
      },
      "source": [
        "from collections import namedtuple\n",
        "AdaptationConfig = namedtuple('AdaptationConfig',\n",
        "  field_names=\"num_classes, dropout, initializer_range, batch_size, lr, max_norm, n_epochs,\"\n",
        "              \"n_warmup, valid_set_prop, gradient_accumulation_steps, device,\"\n",
        "              \"log_dir\")\n",
        "adapt_args = AdaptationConfig(\n",
        "               2          , 0.1    , 0.02             , 16        , 6.5e-5, 1.0   , 4,\n",
        "               10      , 0.1           , 1, device,\n",
        "               \"./\" )"
      ],
      "execution_count": 0,
      "outputs": []
    },
    {
      "cell_type": "markdown",
      "metadata": {
        "id": "yq6E8YlnQG_e",
        "colab_type": "text"
      },
      "source": [
        "loading the pretrained config for GPT model"
      ]
    },
    {
      "cell_type": "code",
      "metadata": {
        "id": "LMpf4G6OlC-F",
        "colab_type": "code",
        "colab": {}
      },
      "source": [
        "gptconfig = cached_path(\"https://s3.amazonaws.com/models.huggingface.co/bert/openai-gpt-config.json\")"
      ],
      "execution_count": 0,
      "outputs": []
    },
    {
      "cell_type": "code",
      "metadata": {
        "id": "jS7x4O9olh5D",
        "colab_type": "code",
        "colab": {
          "base_uri": "https://localhost:8080/",
          "height": 74
        },
        "outputId": "dd0e9e00-686e-49c5-8bf5-33ef9fc32ee2"
      },
      "source": [
        "import json\n",
        "with open(gptconfig, \"r\") as read_file:\n",
        "    gptconfig = json.load(read_file)\n",
        "print (gptconfig)"
      ],
      "execution_count": 52,
      "outputs": [
        {
          "output_type": "stream",
          "text": [
            "{'afn': 'gelu', 'attn_pdrop': 0.1, 'embd_pdrop': 0.1, 'initializer_range': 0.02, 'layer_norm_epsilon': 1e-05, 'n_ctx': 512, 'n_embd': 768, 'n_head': 12, 'n_layer': 12, 'n_positions': 512, 'n_special': 0, 'resid_pdrop': 0.1, 'vocab_size': 40478}\n"
          ],
          "name": "stdout"
        }
      ]
    },
    {
      "cell_type": "markdown",
      "metadata": {
        "id": "rFV6tbQ6Qt4T",
        "colab_type": "text"
      },
      "source": [
        "Loading the pretrained GPT model"
      ]
    },
    {
      "cell_type": "code",
      "metadata": {
        "id": "8vwMyqsC0ilc",
        "colab_type": "code",
        "colab": {}
      },
      "source": [
        "gptmodel = OpenAIGPTModel.from_pretrained('openai-gpt')"
      ],
      "execution_count": 0,
      "outputs": []
    },
    {
      "cell_type": "markdown",
      "metadata": {
        "id": "UhFUdX7RN6vJ",
        "colab_type": "text"
      },
      "source": [
        "Because we have added a new classification token, we need to resize the model"
      ]
    },
    {
      "cell_type": "code",
      "metadata": {
        "id": "Kw4TXj0O0tLu",
        "colab_type": "code",
        "colab": {
          "base_uri": "https://localhost:8080/",
          "height": 74
        },
        "outputId": "1ae6a6b6-8a51-47ca-acaa-a98f075abf42"
      },
      "source": [
        "gptmodel.resize_token_embeddings(len(gpttokenizer))"
      ],
      "execution_count": 54,
      "outputs": [
        {
          "output_type": "execute_result",
          "data": {
            "text/plain": [
              "Embedding(40479, 768)"
            ]
          },
          "metadata": {
            "tags": []
          },
          "execution_count": 54
        }
      ]
    },
    {
      "cell_type": "code",
      "metadata": {
        "id": "wPiFmF6ClwUi",
        "colab_type": "code",
        "colab": {}
      },
      "source": [
        "model = GPTWithClfHead(gptconfig, adapt_args, gptmodel)\n",
        "model.cuda()"
      ],
      "execution_count": 0,
      "outputs": []
    },
    {
      "cell_type": "markdown",
      "metadata": {
        "id": "ygvLRQ98ejYn",
        "colab_type": "text"
      },
      "source": [
        "## Training \n",
        "\n",
        "Below is our training loop. For each pass in our loop we have a trianing phase and a validation phase. At each pass we need to have:\n",
        "\n",
        "**Training loop**:\n",
        "-  Setting the model in train mode\n",
        "- Unpack our data\n",
        "- Load data onto the GPU (Optional)\n",
        "- Zeroing out the gradients calculated in the previous pass. In pytorch the gradients accumulate by default \n",
        "- Forward pass \n",
        "- Backward pass (backpropagation)\n",
        "- Tell the network to update parameters with optimizer.step()\n",
        "- Track variables for monitoring progress\n",
        "\n",
        "**Evalution loop**:\n",
        "- Setting the model in evaluation mode\n",
        "- Unpack our data \n",
        "- Load data onto the GPU (Optional)\n",
        "- Forward pass \n",
        "- Compute loss on our validation data and track variables for monitoring progress\n",
        "\n"
      ]
    },
    {
      "cell_type": "code",
      "metadata": {
        "id": "l97YeoiwEkGI",
        "colab_type": "code",
        "colab": {}
      },
      "source": [
        "\n",
        "import os\n",
        "from torch.utils.data import DataLoader\n",
        "from ignite.engine import Engine, Events\n",
        "from ignite.metrics import RunningAverage, Accuracy\n",
        "from ignite.handlers import ModelCheckpoint\n",
        "from ignite.contrib.handlers import CosineAnnealingScheduler, PiecewiseLinear, create_lr_scheduler_with_warmup, ProgressBar\n",
        "optimizer = torch.optim.Adam(model.parameters(), lr=adapt_args.lr)\n",
        "\n",
        "train_loss_set = []\n",
        "\n",
        "# Training function and trainer\n",
        "def update(engine, batch):\n",
        "    model.train()\n",
        "    b_input_ids, labels = (t.to(adapt_args.device) for t in batch)\n",
        "    outputs = model(input_ids = b_input_ids, labels=labels)\n",
        "    loss = outputs[0]\n",
        "    \n",
        "    loss = loss / adapt_args.gradient_accumulation_steps\n",
        "    train_loss_set.append(loss.item())\n",
        "    loss.backward()\n",
        "    torch.nn.utils.clip_grad_norm_(model.parameters(), adapt_args.max_norm)\n",
        "    if engine.state.iteration % adapt_args.gradient_accumulation_steps == 0:\n",
        "        optimizer.step()\n",
        "        optimizer.zero_grad()\n",
        "    return loss.item()\n",
        "trainer = Engine(update)\n",
        "\n",
        "# Evaluation function and evaluator (evaluator output is the input of the metrics)\n",
        "def inference(engine, batch):\n",
        "    model.eval()\n",
        "    with torch.no_grad():\n",
        "      b_input_ids, labels = (t.to(adapt_args.device) for t in batch)\n",
        "      outputs = model(input_ids = b_input_ids)\n",
        "      logits = outputs[0]\n",
        "    return logits, labels\n",
        "evaluator = Engine(inference)\n",
        "\n",
        "# Attache metric to evaluator & evaluation to trainer: evaluate on valid set after each epoch\n",
        "Accuracy().attach(evaluator, \"accuracy\")\n",
        "@trainer.on(Events.EPOCH_COMPLETED)\n",
        "def log_validation_results(engine):\n",
        "    evaluator.run(validation_dataloader)\n",
        "    print(f\"Validation Epoch: {engine.state.epoch} accuracy: {100*(evaluator.state.metrics['accuracy'])}\")\n",
        "     \n",
        "\n",
        "# Learning rate schedule: linearly warm-up to lr and then to zero\n",
        "scheduler = PiecewiseLinear(optimizer, 'lr', [(0, 0.0), (adapt_args.n_warmup, adapt_args.lr),\n",
        "                                              (len(train_dataloader)*adapt_args.n_epochs, 0.0)])\n",
        "trainer.add_event_handler(Events.ITERATION_STARTED, scheduler)\n",
        "\n",
        "# Add progressbar with loss\n",
        "RunningAverage(output_transform=lambda x: x).attach(trainer, \"loss\")\n",
        "ProgressBar(persist=True).attach(trainer, metric_names=['loss'])\n",
        "\n",
        "# @trainer.on(Events.ITERATION_COMPLETED)\n",
        "@trainer.on(Events.EPOCH_COMPLETED)\n",
        "def log_running_avg_metrics(engine):    \n",
        "    print(f\" Epoch: {engine.state.epoch} training loss: {engine.state.metrics['loss']}\")\n",
        "    \n",
        "\n",
        "# Save checkpoints and finetuning config\n",
        "checkpoint_handler = ModelCheckpoint(adapt_args.log_dir, 'finetuning_checkpoint', save_interval=1, require_empty=False)\n",
        "trainer.add_event_handler(Events.EPOCH_COMPLETED, checkpoint_handler, {'mymodel': model})\n",
        "# torch.save(args, os.path.join(adapt_args.log_dir, 'fine_tuning_args.bin'))"
      ],
      "execution_count": 0,
      "outputs": []
    },
    {
      "cell_type": "code",
      "metadata": {
        "id": "k23oWjYeGZVR",
        "colab_type": "code",
        "colab": {
          "base_uri": "https://localhost:8080/",
          "height": 191
        },
        "outputId": "efb9d011-7c54-4ebc-88d5-832cbe4a7866"
      },
      "source": [
        "trainer.run(train_dataloader, max_epochs=adapt_args.n_epochs)"
      ],
      "execution_count": 58,
      "outputs": [
        {
          "output_type": "stream",
          "text": [
            "Validation Epoch: 1 accuracy: 76.16822429906543\n",
            " Epoch: 1 training loss: 0.4515294992076222\n"
          ],
          "name": "stdout"
        },
        {
          "output_type": "display_data",
          "data": {
            "application/vnd.jupyter.widget-view+json": {
              "model_id": "3701179003ba42079e5434fcbd0100ee",
              "version_minor": 0,
              "version_major": 2
            },
            "text/plain": [
              "HBox(children=(IntProgress(value=0, max=508), HTML(value='')))"
            ]
          },
          "metadata": {
            "tags": []
          }
        },
        {
          "output_type": "stream",
          "text": [
            "Validation Epoch: 2 accuracy: 76.4018691588785\n",
            " Epoch: 2 training loss: 0.27423131179587323\n"
          ],
          "name": "stdout"
        },
        {
          "output_type": "display_data",
          "data": {
            "application/vnd.jupyter.widget-view+json": {
              "model_id": "6d41b7235aef4eb8b15db538ff9159d7",
              "version_minor": 0,
              "version_major": 2
            },
            "text/plain": [
              "HBox(children=(IntProgress(value=0, max=508), HTML(value='')))"
            ]
          },
          "metadata": {
            "tags": []
          }
        },
        {
          "output_type": "stream",
          "text": [
            "Validation Epoch: 3 accuracy: 76.4018691588785\n",
            " Epoch: 3 training loss: 0.13529682732307408\n"
          ],
          "name": "stdout"
        },
        {
          "output_type": "display_data",
          "data": {
            "application/vnd.jupyter.widget-view+json": {
              "model_id": "06c3d1cfa35340918df4f38c2c4bdb59",
              "version_minor": 0,
              "version_major": 2
            },
            "text/plain": [
              "HBox(children=(IntProgress(value=0, max=508), HTML(value='')))"
            ]
          },
          "metadata": {
            "tags": []
          }
        },
        {
          "output_type": "stream",
          "text": [
            "Validation Epoch: 4 accuracy: 76.4018691588785\n",
            " Epoch: 4 training loss: 0.09748851845094439\n"
          ],
          "name": "stdout"
        },
        {
          "output_type": "execute_result",
          "data": {
            "text/plain": [
              "<ignite.engine.engine.State at 0x7f84503999e8>"
            ]
          },
          "metadata": {
            "tags": []
          },
          "execution_count": 58
        }
      ]
    },
    {
      "cell_type": "markdown",
      "metadata": {
        "id": "PPQzlbORH5UH",
        "colab_type": "text"
      },
      "source": [
        "## Training Evaluation"
      ]
    },
    {
      "cell_type": "markdown",
      "metadata": {
        "id": "icXnfduhICo4",
        "colab_type": "text"
      },
      "source": [
        "Let's take a look at our training loss over all batches:"
      ]
    },
    {
      "cell_type": "code",
      "metadata": {
        "id": "ioeDk-z1H-ln",
        "colab_type": "code",
        "colab": {
          "base_uri": "https://localhost:8080/",
          "height": 533
        },
        "outputId": "bb6e9515-f482-4ba0-eb61-8105b7d22125"
      },
      "source": [
        "plt.figure(figsize=(15,8))\n",
        "plt.title(\"Training loss\")\n",
        "plt.xlabel(\"Batch\")\n",
        "plt.ylabel(\"Loss\")\n",
        "plt.plot(train_loss_set)\n",
        "plt.show()"
      ],
      "execution_count": 59,
      "outputs": [
        {
          "output_type": "display_data",
          "data": {
            "image/png": "[encoded data removed]",
            "text/plain": [
              "<Figure size 1080x576 with 1 Axes>"
            ]
          },
          "metadata": {
            "tags": []
          }
        }
      ]
    },
    {
      "cell_type": "markdown",
      "metadata": {
        "id": "hQBre01rIIax",
        "colab_type": "text"
      },
      "source": [
        "## Predicting and Evaluating on Holdout Set"
      ]
    },
    {
      "cell_type": "markdown",
      "metadata": {
        "id": "lVuiGY4_IZpI",
        "colab_type": "text"
      },
      "source": [
        "First we need to load the holdout dataset and prepare inputs just as we did with the training set. Then we'll evaluate predictions using [Matthew's correlation coefficient](https://scikit-learn.org/stable/modules/generated/sklearn.metrics.matthews_corrcoef.html). This is the metric used by the  NLP community to evaluate performance on CoLA. With this metric, +1 is the best score, and -1 is the worst score."
      ]
    },
    {
      "cell_type": "code",
      "metadata": {
        "id": "G1cNadWLIYv8",
        "colab_type": "code",
        "colab": {}
      },
      "source": [
        "# Upload the test file from your local drive\n",
        "from google.colab import files\n",
        "uploaded = files.upload()"
      ],
      "execution_count": 0,
      "outputs": []
    },
    {
      "cell_type": "markdown",
      "metadata": {
        "id": "18GKv-dZIr4f",
        "colab_type": "text"
      },
      "source": [
        "**Preparing the data**"
      ]
    },
    {
      "cell_type": "code",
      "metadata": {
        "id": "pyHROVa3Itm_",
        "colab_type": "code",
        "colab": {}
      },
      "source": [
        "df = pd.read_csv(\"out_of_domain_dev.tsv\", delimiter='\\t', header=None, names=['sentence_source', 'label', 'label_notes', 'sentence'])\n",
        "\n",
        "# Create sentence and label lists\n",
        "sentences = df.sentence.values\n",
        "labels = df.label.values\n",
        "\n",
        "\n",
        "tokenized_texts = [gpttokenizer.tokenize(sent) for sent in sentences]\n",
        "\n",
        "\n",
        "\n",
        "MAX_LEN = 128\n",
        "\n",
        "# input tokens\n",
        "input_ids = [gpttokenizer.convert_tokens_to_ids(x) for x in tokenized_texts]\n",
        "input_ids = pad_sequences(input_ids, maxlen=MAX_LEN-1, dtype=\"long\", truncating=\"post\", padding=\"post\")\n",
        "input_ids = [np.append(x, gpttokenizer.convert_tokens_to_ids('[CLS]'))  for x in input_ids]\n",
        "\n",
        "\n",
        "prediction_inputs = torch.tensor(input_ids)\n",
        "prediction_labels = torch.tensor(labels)\n",
        "  \n",
        "batch_size = 16  \n",
        "\n",
        "\n",
        "prediction_data = TensorDataset(prediction_inputs, prediction_labels)\n",
        "prediction_sampler = SequentialSampler(prediction_data)\n",
        "prediction_dataloader = DataLoader(prediction_data, sampler=prediction_sampler, batch_size=batch_size)"
      ],
      "execution_count": 0,
      "outputs": []
    },
    {
      "cell_type": "markdown",
      "metadata": {
        "id": "exxhi5XQK4Yx",
        "colab_type": "text"
      },
      "source": [
        "**Evaluating**"
      ]
    },
    {
      "cell_type": "code",
      "metadata": {
        "id": "eZKf-W5jX9rF",
        "colab_type": "code",
        "colab": {}
      },
      "source": [
        "predictions , true_labels = [], []\n",
        "# Evaluation function and evaluator (evaluator output is the input of the metrics)\n",
        "\n",
        "def inference(engine, batch):\n",
        "    model.eval()\n",
        "    with torch.no_grad():\n",
        "      b_input_ids, labels = (t.to(adapt_args.device) for t in batch)\n",
        "      outputs = model(input_ids = b_input_ids)\n",
        "      logits = outputs[0] \n",
        "    # Store predictions and true labels\n",
        "    predictions.append(logits.detach().cpu().numpy())\n",
        "    true_labels.append(labels.to('cpu').numpy())\n",
        "    \n",
        "    return logits, labels\n",
        "evaluator = Engine(inference)"
      ],
      "execution_count": 0,
      "outputs": []
    },
    {
      "cell_type": "code",
      "metadata": {
        "id": "9glOFXRjYz4p",
        "colab_type": "code",
        "colab": {
          "base_uri": "https://localhost:8080/",
          "height": 94
        },
        "outputId": "3f9c9548-065c-4d01-ddf0-55e9c5aa4e47"
      },
      "source": [
        "evaluator.run(prediction_dataloader)\n",
        "# print(f\"Test Results - Error rate: {100*(1.00 - evaluator.state.metrics['accuracy']):.3f}\")"
      ],
      "execution_count": 67,
      "outputs": [
        {
          "output_type": "execute_result",
          "data": {
            "text/plain": [
              "<ignite.engine.engine.State at 0x7f845187f8d0>"
            ]
          },
          "metadata": {
            "tags": []
          },
          "execution_count": 67
        }
      ]
    },
    {
      "cell_type": "code",
      "metadata": {
        "id": "Eqohh1WrL-Ct",
        "colab_type": "code",
        "colab": {
          "base_uri": "https://localhost:8080/",
          "height": 92
        },
        "outputId": "bb1d01cf-001c-470b-a118-dc243d9f51c7"
      },
      "source": [
        "# Import and evaluate each test batch using Matthew's correlation coefficient\n",
        "from sklearn.metrics import matthews_corrcoef\n",
        "matthews_set = []\n",
        "\n",
        "for i in range(len(true_labels)):\n",
        "  matthews = matthews_corrcoef(true_labels[i],\n",
        "                 np.argmax(predictions[i], axis=1).flatten())\n",
        "  matthews_set.append(matthews)"
      ],
      "execution_count": 68,
      "outputs": [
        {
          "output_type": "stream",
          "text": [
            "/usr/local/lib/python3.6/dist-packages/sklearn/metrics/classification.py:872: RuntimeWarning: invalid value encountered in double_scalars\n",
            "  mcc = cov_ytyp / np.sqrt(cov_ytyt * cov_ypyp)\n"
          ],
          "name": "stderr"
        }
      ]
    },
    {
      "cell_type": "markdown",
      "metadata": {
        "id": "QO8_vUQHMBh0",
        "colab_type": "text"
      },
      "source": [
        "The final score will be based on the entire test set, but let's take a look at the scores on the individual batches to get a sense of the variability in the metric between batches.\n",
        "\n"
      ]
    },
    {
      "cell_type": "code",
      "metadata": {
        "id": "z4hfy2IdMF04",
        "colab_type": "code",
        "colab": {
          "base_uri": "https://localhost:8080/",
          "height": 1000
        },
        "outputId": "c13fee09-2d36-46c4-a9d5-085ba7ffa654"
      },
      "source": [
        "matthews_set"
      ],
      "execution_count": 69,
      "outputs": [
        {
          "output_type": "execute_result",
          "data": {
            "text/plain": [
              "[0.0,\n",
              " 0.0,\n",
              " -0.12403473458920847,\n",
              " 0.0,\n",
              " 0.0,\n",
              " 0.7644707871564383,\n",
              " 0.5606119105813882,\n",
              " -0.0778498944161523,\n",
              " 0.09759000729485333,\n",
              " 0.38297084310253526,\n",
              " 0.363696483726654,\n",
              " 0.7453559924999299,\n",
              " 0.5918640302493726,\n",
              " 0.6201736729460423,\n",
              " 0.2182178902359924,\n",
              " 0.0,\n",
              " 0.0,\n",
              " 0.7125253031944253,\n",
              " 0.3333333333333333,\n",
              " 0.4879500364742666,\n",
              " 0.38297084310253526,\n",
              " 0.8320502943378436,\n",
              " 0.6201736729460423,\n",
              " 0.30261376633440124,\n",
              " 0.5091750772173156,\n",
              " 0.6546536707079772,\n",
              " 0.6831300510639733,\n",
              " -0.2182178902359924,\n",
              " 1.0,\n",
              " 0.4622501635210242,\n",
              " 0.2277100170213244,\n",
              " 0.15289415743128767,\n",
              " 0.0,\n",
              " 0.0,\n",
              " 0.0,\n",
              " -0.12403473458920847,\n",
              " 0.0,\n",
              " 0.0,\n",
              " 0.7644707871564383,\n",
              " 0.5606119105813882,\n",
              " -0.0778498944161523,\n",
              " 0.09759000729485333,\n",
              " 0.38297084310253526,\n",
              " 0.363696483726654,\n",
              " 0.7453559924999299,\n",
              " 0.5918640302493726,\n",
              " 0.6201736729460423,\n",
              " 0.2182178902359924,\n",
              " 0.0,\n",
              " 0.0,\n",
              " 0.7125253031944253,\n",
              " 0.3333333333333333,\n",
              " 0.4879500364742666,\n",
              " 0.38297084310253526,\n",
              " 0.8320502943378436,\n",
              " 0.6201736729460423,\n",
              " 0.30261376633440124,\n",
              " 0.5091750772173156,\n",
              " 0.6546536707079772,\n",
              " 0.6831300510639733,\n",
              " -0.2182178902359924,\n",
              " 1.0,\n",
              " 0.4622501635210242,\n",
              " 0.2277100170213244,\n",
              " 0.15289415743128767,\n",
              " 0.0]"
            ]
          },
          "metadata": {
            "tags": []
          },
          "execution_count": 69
        }
      ]
    },
    {
      "cell_type": "code",
      "metadata": {
        "id": "OPTP2KcqMJU7",
        "colab_type": "code",
        "colab": {}
      },
      "source": [
        "# Flatten the predictions and true values for aggregate Matthew's evaluation on the whole dataset\n",
        "flat_predictions = [item for sublist in predictions for item in sublist]\n",
        "flat_predictions = np.argmax(flat_predictions, axis=1).flatten()\n",
        "flat_true_labels = [item for sublist in true_labels for item in sublist]"
      ],
      "execution_count": 0,
      "outputs": []
    },
    {
      "cell_type": "code",
      "metadata": {
        "id": "dlHotmsSMNHD",
        "colab_type": "code",
        "colab": {
          "base_uri": "https://localhost:8080/",
          "height": 74
        },
        "outputId": "a9fc05f3-7969-4408-b0fb-15c3bc3af07b"
      },
      "source": [
        "matthews_corrcoef(flat_true_labels, flat_predictions)"
      ],
      "execution_count": 71,
      "outputs": [
        {
          "output_type": "execute_result",
          "data": {
            "text/plain": [
              "0.36656834386413933"
            ]
          },
          "metadata": {
            "tags": []
          },
          "execution_count": 71
        }
      ]
    },
    {
      "cell_type": "markdown",
      "metadata": {
        "id": "KA_59hbPMQ6F",
        "colab_type": "text"
      },
      "source": [
        "Great! In a short amount of time without doing any hyperparameter tuning, we were able to get a relatively good score. Also note that we didn't train on the entire training dataset, but set aside a portion of it as our validation set.\n",
        "\n",
        "If you look at the [GLUE leaderboard](https://gluebenchmark.com/leaderboard/submission/zlssuBTm5XRs0aSKbFYGVIVdvbj1/-LhijX9VVmvJcvzKymxy), you'll see that our score (37) using the small version of GPT is not too bad. If you want to tune the hyperparameters, use the entire train set, or use the larger GPT model instead you're likely able to push that score up higher into the mid- 60s and above, which looks like the state of the art as of August 2019!"
      ]
    },
    {
      "cell_type": "markdown",
      "metadata": {
        "id": "S8yExJx2MT_9",
        "colab_type": "text"
      },
      "source": [
        "# Conclusion"
      ]
    },
    {
      "cell_type": "markdown",
      "metadata": {
        "id": "lgnTywfiMXvC",
        "colab_type": "text"
      },
      "source": [
        "This post showed that with a pre-trained GPT model you can quickly and effectively develope a new model by fine tuning GPT model for your specific NLP task. To learn about Fine tuning BERT, please refer to this [tutorial](http://tiny.cc/Bert_Classification). In this classification experiment looks like BERT model is doing a better job than GPT model."
      ]
    }
  ]
}